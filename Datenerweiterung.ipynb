{
  "nbformat": 4,
  "nbformat_minor": 0,
  "metadata": {
    "colab": {
      "name": "Datenerweiterung",
      "provenance": [],
      "toc_visible": true,
      "authorship_tag": "ABX9TyMgu6d2Ryi4/G2qxI4sMtdZ",
      "include_colab_link": true
    },
    "kernelspec": {
      "name": "python3",
      "display_name": "Python 3"
    },
    "language_info": {
      "name": "python"
    }
  },
  "cells": [
    {
      "cell_type": "markdown",
      "metadata": {
        "id": "view-in-github",
        "colab_type": "text"
      },
      "source": [
        "<a href=\"https://colab.research.google.com/github/xBosse/notebooks/blob/main/Datenerweiterung.ipynb\" target=\"_parent\"><img src=\"https://colab.research.google.com/assets/colab-badge.svg\" alt=\"Open In Colab\"/></a>"
      ]
    },
    {
      "cell_type": "markdown",
      "source": [
        "#INSTALL IMPORT"
      ],
      "metadata": {
        "id": "0T-j5uJoNYJd"
      }
    },
    {
      "cell_type": "code",
      "source": [
        "pip install spacy"
      ],
      "metadata": {
        "colab": {
          "base_uri": "https://localhost:8080/"
        },
        "id": "2Qt7IASv4Pne",
        "outputId": "22d77847-3182-436d-f7fa-79e505139f8f"
      },
      "execution_count": null,
      "outputs": [
        {
          "output_type": "stream",
          "name": "stdout",
          "text": [
            "Requirement already satisfied: spacy in /usr/local/lib/python3.7/dist-packages (2.2.4)\n",
            "Requirement already satisfied: wasabi<1.1.0,>=0.4.0 in /usr/local/lib/python3.7/dist-packages (from spacy) (0.9.1)\n",
            "Requirement already satisfied: requests<3.0.0,>=2.13.0 in /usr/local/lib/python3.7/dist-packages (from spacy) (2.23.0)\n",
            "Requirement already satisfied: setuptools in /usr/local/lib/python3.7/dist-packages (from spacy) (57.4.0)\n",
            "Requirement already satisfied: cymem<2.1.0,>=2.0.2 in /usr/local/lib/python3.7/dist-packages (from spacy) (2.0.6)\n",
            "Requirement already satisfied: plac<1.2.0,>=0.9.6 in /usr/local/lib/python3.7/dist-packages (from spacy) (1.1.3)\n",
            "Requirement already satisfied: numpy>=1.15.0 in /usr/local/lib/python3.7/dist-packages (from spacy) (1.21.6)\n",
            "Requirement already satisfied: preshed<3.1.0,>=3.0.2 in /usr/local/lib/python3.7/dist-packages (from spacy) (3.0.6)\n",
            "Requirement already satisfied: murmurhash<1.1.0,>=0.28.0 in /usr/local/lib/python3.7/dist-packages (from spacy) (1.0.7)\n",
            "Requirement already satisfied: thinc==7.4.0 in /usr/local/lib/python3.7/dist-packages (from spacy) (7.4.0)\n",
            "Requirement already satisfied: tqdm<5.0.0,>=4.38.0 in /usr/local/lib/python3.7/dist-packages (from spacy) (4.64.0)\n",
            "Requirement already satisfied: srsly<1.1.0,>=1.0.2 in /usr/local/lib/python3.7/dist-packages (from spacy) (1.0.5)\n",
            "Requirement already satisfied: catalogue<1.1.0,>=0.0.7 in /usr/local/lib/python3.7/dist-packages (from spacy) (1.0.0)\n",
            "Requirement already satisfied: blis<0.5.0,>=0.4.0 in /usr/local/lib/python3.7/dist-packages (from spacy) (0.4.1)\n",
            "Requirement already satisfied: importlib-metadata>=0.20 in /usr/local/lib/python3.7/dist-packages (from catalogue<1.1.0,>=0.0.7->spacy) (4.11.3)\n",
            "Requirement already satisfied: typing-extensions>=3.6.4 in /usr/local/lib/python3.7/dist-packages (from importlib-metadata>=0.20->catalogue<1.1.0,>=0.0.7->spacy) (4.2.0)\n",
            "Requirement already satisfied: zipp>=0.5 in /usr/local/lib/python3.7/dist-packages (from importlib-metadata>=0.20->catalogue<1.1.0,>=0.0.7->spacy) (3.8.0)\n",
            "Requirement already satisfied: certifi>=2017.4.17 in /usr/local/lib/python3.7/dist-packages (from requests<3.0.0,>=2.13.0->spacy) (2021.10.8)\n",
            "Requirement already satisfied: chardet<4,>=3.0.2 in /usr/local/lib/python3.7/dist-packages (from requests<3.0.0,>=2.13.0->spacy) (3.0.4)\n",
            "Requirement already satisfied: urllib3!=1.25.0,!=1.25.1,<1.26,>=1.21.1 in /usr/local/lib/python3.7/dist-packages (from requests<3.0.0,>=2.13.0->spacy) (1.24.3)\n",
            "Requirement already satisfied: idna<3,>=2.5 in /usr/local/lib/python3.7/dist-packages (from requests<3.0.0,>=2.13.0->spacy) (2.10)\n"
          ]
        }
      ]
    },
    {
      "cell_type": "code",
      "execution_count": null,
      "metadata": {
        "colab": {
          "base_uri": "https://localhost:8080/"
        },
        "id": "-XuDbPJh0Y76",
        "outputId": "88401036-6b2a-4bef-f08a-13401b9782c4"
      },
      "outputs": [
        {
          "output_type": "stream",
          "name": "stdout",
          "text": [
            "Cloning into 'datenerweiterung'...\n",
            "remote: Enumerating objects: 109, done.\u001b[K\n",
            "remote: Counting objects: 100% (46/46), done.\u001b[K\n",
            "remote: Compressing objects: 100% (46/46), done.\u001b[K\n",
            "remote: Total 109 (delta 11), reused 0 (delta 0), pack-reused 63\u001b[K\n",
            "Receiving objects: 100% (109/109), 8.64 MiB | 7.40 MiB/s, done.\n",
            "Resolving deltas: 100% (34/34), done.\n"
          ]
        }
      ],
      "source": [
        "!git clone https://github.com/xBosse/datenerweiterung.git"
      ]
    },
    {
      "cell_type": "code",
      "source": [
        "!python -m spacy download de_core_news_sm"
      ],
      "metadata": {
        "id": "gTYAL3ek0htN",
        "colab": {
          "base_uri": "https://localhost:8080/"
        },
        "outputId": "a421e414-568a-449e-d581-58642be3e7f5"
      },
      "execution_count": null,
      "outputs": [
        {
          "output_type": "stream",
          "name": "stdout",
          "text": [
            "Collecting de_core_news_sm==2.2.5\n",
            "  Downloading https://github.com/explosion/spacy-models/releases/download/de_core_news_sm-2.2.5/de_core_news_sm-2.2.5.tar.gz (14.9 MB)\n",
            "\u001b[K     |████████████████████████████████| 14.9 MB 6.8 MB/s \n",
            "\u001b[?25hRequirement already satisfied: spacy>=2.2.2 in /usr/local/lib/python3.7/dist-packages (from de_core_news_sm==2.2.5) (2.2.4)\n",
            "Requirement already satisfied: cymem<2.1.0,>=2.0.2 in /usr/local/lib/python3.7/dist-packages (from spacy>=2.2.2->de_core_news_sm==2.2.5) (2.0.6)\n",
            "Requirement already satisfied: blis<0.5.0,>=0.4.0 in /usr/local/lib/python3.7/dist-packages (from spacy>=2.2.2->de_core_news_sm==2.2.5) (0.4.1)\n",
            "Requirement already satisfied: tqdm<5.0.0,>=4.38.0 in /usr/local/lib/python3.7/dist-packages (from spacy>=2.2.2->de_core_news_sm==2.2.5) (4.64.0)\n",
            "Requirement already satisfied: numpy>=1.15.0 in /usr/local/lib/python3.7/dist-packages (from spacy>=2.2.2->de_core_news_sm==2.2.5) (1.21.6)\n",
            "Requirement already satisfied: requests<3.0.0,>=2.13.0 in /usr/local/lib/python3.7/dist-packages (from spacy>=2.2.2->de_core_news_sm==2.2.5) (2.23.0)\n",
            "Requirement already satisfied: srsly<1.1.0,>=1.0.2 in /usr/local/lib/python3.7/dist-packages (from spacy>=2.2.2->de_core_news_sm==2.2.5) (1.0.5)\n",
            "Requirement already satisfied: wasabi<1.1.0,>=0.4.0 in /usr/local/lib/python3.7/dist-packages (from spacy>=2.2.2->de_core_news_sm==2.2.5) (0.9.1)\n",
            "Requirement already satisfied: murmurhash<1.1.0,>=0.28.0 in /usr/local/lib/python3.7/dist-packages (from spacy>=2.2.2->de_core_news_sm==2.2.5) (1.0.7)\n",
            "Requirement already satisfied: preshed<3.1.0,>=3.0.2 in /usr/local/lib/python3.7/dist-packages (from spacy>=2.2.2->de_core_news_sm==2.2.5) (3.0.6)\n",
            "Requirement already satisfied: catalogue<1.1.0,>=0.0.7 in /usr/local/lib/python3.7/dist-packages (from spacy>=2.2.2->de_core_news_sm==2.2.5) (1.0.0)\n",
            "Requirement already satisfied: setuptools in /usr/local/lib/python3.7/dist-packages (from spacy>=2.2.2->de_core_news_sm==2.2.5) (57.4.0)\n",
            "Requirement already satisfied: plac<1.2.0,>=0.9.6 in /usr/local/lib/python3.7/dist-packages (from spacy>=2.2.2->de_core_news_sm==2.2.5) (1.1.3)\n",
            "Requirement already satisfied: thinc==7.4.0 in /usr/local/lib/python3.7/dist-packages (from spacy>=2.2.2->de_core_news_sm==2.2.5) (7.4.0)\n",
            "Requirement already satisfied: importlib-metadata>=0.20 in /usr/local/lib/python3.7/dist-packages (from catalogue<1.1.0,>=0.0.7->spacy>=2.2.2->de_core_news_sm==2.2.5) (4.11.3)\n",
            "Requirement already satisfied: typing-extensions>=3.6.4 in /usr/local/lib/python3.7/dist-packages (from importlib-metadata>=0.20->catalogue<1.1.0,>=0.0.7->spacy>=2.2.2->de_core_news_sm==2.2.5) (4.2.0)\n",
            "Requirement already satisfied: zipp>=0.5 in /usr/local/lib/python3.7/dist-packages (from importlib-metadata>=0.20->catalogue<1.1.0,>=0.0.7->spacy>=2.2.2->de_core_news_sm==2.2.5) (3.8.0)\n",
            "Requirement already satisfied: certifi>=2017.4.17 in /usr/local/lib/python3.7/dist-packages (from requests<3.0.0,>=2.13.0->spacy>=2.2.2->de_core_news_sm==2.2.5) (2021.10.8)\n",
            "Requirement already satisfied: urllib3!=1.25.0,!=1.25.1,<1.26,>=1.21.1 in /usr/local/lib/python3.7/dist-packages (from requests<3.0.0,>=2.13.0->spacy>=2.2.2->de_core_news_sm==2.2.5) (1.24.3)\n",
            "Requirement already satisfied: chardet<4,>=3.0.2 in /usr/local/lib/python3.7/dist-packages (from requests<3.0.0,>=2.13.0->spacy>=2.2.2->de_core_news_sm==2.2.5) (3.0.4)\n",
            "Requirement already satisfied: idna<3,>=2.5 in /usr/local/lib/python3.7/dist-packages (from requests<3.0.0,>=2.13.0->spacy>=2.2.2->de_core_news_sm==2.2.5) (2.10)\n",
            "Building wheels for collected packages: de-core-news-sm\n",
            "  Building wheel for de-core-news-sm (setup.py) ... \u001b[?25l\u001b[?25hdone\n",
            "  Created wheel for de-core-news-sm: filename=de_core_news_sm-2.2.5-py3-none-any.whl size=14907055 sha256=24d0ae84dc8d000e610b5bae2ef305c894834eecb22a0be64c112ff1163a399b\n",
            "  Stored in directory: /tmp/pip-ephem-wheel-cache-4d82hg7g/wheels/00/66/69/cb6c921610087d2cab339062345098e30a5ceb665360e7b32a\n",
            "Successfully built de-core-news-sm\n",
            "Installing collected packages: de-core-news-sm\n",
            "Successfully installed de-core-news-sm-2.2.5\n",
            "\u001b[38;5;2m✔ Download and installation successful\u001b[0m\n",
            "You can now load the model via spacy.load('de_core_news_sm')\n"
          ]
        }
      ]
    },
    {
      "cell_type": "code",
      "source": [
        "pip install lxml"
      ],
      "metadata": {
        "id": "HQcP27TfAuBZ",
        "colab": {
          "base_uri": "https://localhost:8080/"
        },
        "outputId": "03d8e903-1995-4414-d372-c9cef91042fe"
      },
      "execution_count": null,
      "outputs": [
        {
          "output_type": "stream",
          "name": "stdout",
          "text": [
            "Requirement already satisfied: lxml in /usr/local/lib/python3.7/dist-packages (4.2.6)\n"
          ]
        }
      ]
    },
    {
      "cell_type": "code",
      "source": [
        "pip install bs4"
      ],
      "metadata": {
        "id": "ZXIHr5O_AvnX",
        "colab": {
          "base_uri": "https://localhost:8080/"
        },
        "outputId": "623207c9-8164-4568-f593-95b820b18390"
      },
      "execution_count": null,
      "outputs": [
        {
          "output_type": "stream",
          "name": "stdout",
          "text": [
            "Requirement already satisfied: bs4 in /usr/local/lib/python3.7/dist-packages (0.0.1)\n",
            "Requirement already satisfied: beautifulsoup4 in /usr/local/lib/python3.7/dist-packages (from bs4) (4.6.3)\n"
          ]
        }
      ]
    },
    {
      "cell_type": "code",
      "source": [
        "###########################\n",
        "def list_to_string(list):\n",
        "  string = \"\"\n",
        "  for x in list:\n",
        "    string = string + str(x) + \"\\n\"\n",
        "  return string\n"
      ],
      "metadata": {
        "id": "4La386p2Caox"
      },
      "execution_count": null,
      "outputs": []
    },
    {
      "cell_type": "markdown",
      "source": [
        "# Subj Expr Lexicon "
      ],
      "metadata": {
        "id": "nnCugSSiNacX"
      }
    },
    {
      "cell_type": "code",
      "source": [
        "# Reading as Txt file\n",
        "\n",
        "with open('datenerweiterung/coarse_grained_opinion_role_lexicon_verbs_german.txt') as f:\n",
        "    lines = f.readlines()\n",
        "# Closing file\n",
        "f.close()\n",
        "\n",
        "\n",
        "newlines = []\n",
        "for line in lines:\n",
        "  a = line.split(\"\\t\")\n",
        "  newlines.append(a[0])\n",
        "\n",
        "\n",
        "  lex_list = newlines\n",
        "lex = list_to_string(newlines)\n",
        "\n",
        "\n",
        "#write to file\n",
        "text_file = open(\"lexicon.txt\", \"w\")\n",
        "text_file.write(lex)\n",
        "text_file.close()"
      ],
      "metadata": {
        "id": "6fiYuw8m1P3q"
      },
      "execution_count": null,
      "outputs": []
    },
    {
      "cell_type": "markdown",
      "source": [
        "# Polit. Texte parsen / BeautifulSoup XML"
      ],
      "metadata": {
        "id": "zt4KK4cb7AQA"
      }
    },
    {
      "cell_type": "code",
      "source": [
        "from bs4 import BeautifulSoup\n",
        "\n",
        "klassen = [\"J_1\",\"J\",\"O\"]\n",
        "texte = []\n",
        "\n",
        "path1 = \"datenerweiterung/\"\n",
        "path2 = \"-data.xml\"\n",
        "\n",
        "for x in range(37):\n",
        "  path = path1 + str(x+20001) + path2\n",
        "\n",
        "  with open(path, 'r') as f:\n",
        "      contents = f.read()\n",
        "      soup = BeautifulSoup(contents, 'xml')\n",
        "\n",
        "  for k in klassen:\n",
        "    for line in soup.find_all(klasse=k):\n",
        "      #print(line.text)\n",
        "      texte.append(line.text)  \n",
        "\n",
        " "
      ],
      "metadata": {
        "id": "Ka_nXFJV7HRT"
      },
      "execution_count": null,
      "outputs": []
    },
    {
      "cell_type": "code",
      "source": [
        "len(texte)"
      ],
      "metadata": {
        "colab": {
          "base_uri": "https://localhost:8080/"
        },
        "id": "F4Hzq2sI5z1s",
        "outputId": "34681586-95cf-4ac3-f7f4-9d7299cb53de"
      },
      "execution_count": null,
      "outputs": [
        {
          "output_type": "execute_result",
          "data": {
            "text/plain": [
              "51285"
            ]
          },
          "metadata": {},
          "execution_count": 9
        }
      ]
    },
    {
      "cell_type": "markdown",
      "source": [
        "# Texte Tokenizen SPACY"
      ],
      "metadata": {
        "id": "mu84-39PNRuK"
      }
    },
    {
      "cell_type": "code",
      "source": [
        "import spacy.cli \n",
        "spacy.cli.download(\"de_core_news_sm\")\n",
        "\n",
        "import spacy\n",
        "from spacy.lang.de.examples import sentences \n",
        "\n",
        "nlp = spacy.load(\"de_core_news_sm\")\n",
        "\n",
        "#####   Bsp.   #####\n",
        "#doc = nlp(sentences[0])\n",
        "#print(doc.text)\n",
        "#for token in doc:\n",
        "   # print(token.text, token.pos_, token.dep_)"
      ],
      "metadata": {
        "colab": {
          "base_uri": "https://localhost:8080/"
        },
        "id": "laCfqkKuNUW5",
        "outputId": "1fd39fd1-8fa2-4e91-983c-c4dd6e215a74"
      },
      "execution_count": null,
      "outputs": [
        {
          "output_type": "stream",
          "name": "stdout",
          "text": [
            "\u001b[38;5;2m✔ Download and installation successful\u001b[0m\n",
            "You can now load the model via spacy.load('de_core_news_sm')\n"
          ]
        }
      ]
    },
    {
      "cell_type": "code",
      "source": [
        "texte_tokens = []\n",
        "for line in texte:\n",
        "  doc = nlp(line)\n",
        "  line_tokens = []\n",
        "  for token in doc:\n",
        "    line_tokens.append(token.text)\n",
        "  texte_tokens.append(line_tokens)"
      ],
      "metadata": {
        "id": "XQgX9nIf1UQ6"
      },
      "execution_count": null,
      "outputs": []
    },
    {
      "cell_type": "markdown",
      "source": [
        "# Filter/Labeling"
      ],
      "metadata": {
        "id": "Krj_8s_e3HsM"
      }
    },
    {
      "cell_type": "markdown",
      "source": [
        "Filtering"
      ],
      "metadata": {
        "id": "Tm21XW_P6jn7"
      }
    },
    {
      "cell_type": "code",
      "source": [
        "def match(x):\n",
        "    for lex in lex_list:\n",
        "      if lex in x:\n",
        "        return True\n",
        "    return False"
      ],
      "metadata": {
        "id": "MwNa6XMJ6jDi"
      },
      "execution_count": null,
      "outputs": []
    },
    {
      "cell_type": "code",
      "source": [
        "texte_filtered = []\n",
        "for line in texte_tokens:\n",
        "  if match(line):\n",
        "    texte_filtered.append(line)\n",
        "\n",
        "print(\"Filtered:\", len(texte_filtered))\n",
        "print(\"Unfiltered:\", len(texte))\n",
        "\n",
        "\n"
      ],
      "metadata": {
        "colab": {
          "base_uri": "https://localhost:8080/"
        },
        "id": "0_RcFRzU4PFf",
        "outputId": "524209f8-fb1d-4de8-a0bc-693f172677f0"
      },
      "execution_count": null,
      "outputs": [
        {
          "output_type": "stream",
          "name": "stdout",
          "text": [
            "Filtered: 15755\n",
            "Unfiltered: 51285\n"
          ]
        }
      ]
    },
    {
      "cell_type": "markdown",
      "source": [
        "Labeling"
      ],
      "metadata": {
        "id": "H9Byk9wo6l3I"
      }
    },
    {
      "cell_type": "code",
      "source": [
        "texte_label = []\n",
        "for line in texte_filtered:\n",
        "  line_label = []\n",
        "  for word in line:\n",
        "    if match(word):\n",
        "      line_label.append(\"1\")\n",
        "    else:\n",
        "      line_label.append(\"0\")\n",
        "  texte_label.append(line_label)\n"
      ],
      "metadata": {
        "id": "9PwqS5O76UvJ"
      },
      "execution_count": null,
      "outputs": []
    },
    {
      "cell_type": "code",
      "source": [
        "### STATS\n",
        "\n",
        "aa = 0\n",
        "for x in range(len(texte_label)):\n",
        "  for y in range(len(texte_label[x])):\n",
        "    if texte_label[x][y] == \"1\":\n",
        "      aa += 1\n",
        "\n",
        "print(aa)\n",
        "print(len(texte_label))"
      ],
      "metadata": {
        "colab": {
          "base_uri": "https://localhost:8080/"
        },
        "id": "3mYHw_5D6_Zj",
        "outputId": "5b1d58e4-530d-4781-e00a-59d0ea895775"
      },
      "execution_count": null,
      "outputs": [
        {
          "output_type": "stream",
          "name": "stdout",
          "text": [
            "28702\n",
            "15755\n"
          ]
        }
      ]
    },
    {
      "cell_type": "markdown",
      "source": [
        "#Formatting Noisy-labeled Data to Json"
      ],
      "metadata": {
        "id": "jpBPl5xWSvWD"
      }
    },
    {
      "cell_type": "code",
      "source": [
        "# IN GLEICHES FORMAT WIE SHARED TASK DATEN BRINGEN\n",
        "\n",
        "# {\"words\": [\"Im\", \"Jahr\", \"2000\", \"hat\", \"sich\", \"die\", \"Welt\", \"den\", \"Uno-Millenniumszielen\", \"verpflichtet\", \",\", \"auch\", \"die\", \"Schweiz\", \"hat\", \"diese\", \"Ziele\", \"unterzeichnet\", \".\"], \"subj\": [0,0,0,0,0,0,0,0,1,1,0,0,0,0,0,0,1,1,0]}\n",
        "\n",
        "texte_json = []\n",
        "\n",
        "\n",
        "for x in range(len(texte_label)):\n",
        "  words = \"{\\\"words\\\": [\"\n",
        "  labels = \"], \\\"subj\\\": [\"\n",
        "\n",
        "  for y in range(len(texte_label[x])):\n",
        "    l = texte_label[x][y]\n",
        "    w = texte_filtered[x][y]\n",
        "    labels += str(l) + \",\"\n",
        "    words += \"\\\"\" + w + \"\\\", \"\n",
        "\n",
        "  texte_json.append(words[:-2] + labels[:-1] + \"]}\")"
      ],
      "metadata": {
        "id": "WLWeEgM1Szri"
      },
      "execution_count": null,
      "outputs": []
    },
    {
      "cell_type": "markdown",
      "source": [
        "# Train Test Val Splits"
      ],
      "metadata": {
        "id": "hM-EVNsUHih6"
      }
    },
    {
      "cell_type": "code",
      "source": [
        "texte_json[0]"
      ],
      "metadata": {
        "colab": {
          "base_uri": "https://localhost:8080/",
          "height": 53
        },
        "id": "JHQSBe3XHhuW",
        "outputId": "8d0404bf-2e7d-4803-b135-00ded50f6a57"
      },
      "execution_count": null,
      "outputs": [
        {
          "output_type": "execute_result",
          "data": {
            "text/plain": [
              "'{\"words\": [\"Herr\", \"Präsident\", \"!\", \"Sehr\", \"geehrte\", \"Damen\", \"und\", \"Herren\", \"!\", \"Heute\", \"ist\", \"in\", \"der\", \"Tat\", \"ein\", \"besonderer\", \"Tag\", \"für\", \"die\", \"Demokratie\", \".\", \"Nach\", \"der\", \"freien\", \"Wahl\", \"des\", \"deutschen\", \"Volkes\", \"stehen\", \"wir\", \"heute\", \"hier\", \"als\", \"Abgeordnete\", \"des\", \"Deutschen\", \"Bundestages\", \",\", \"um\", \"uns\", \"als\", \"Bundestag\", \"zu\", \"konstituieren\", \".\"], \"subj\": [0,0,0,0,0,0,0,0,0,0,0,0,0,0,0,0,0,0,0,0,0,0,0,1,0,0,0,0,0,0,0,0,0,0,0,0,0,0,0,0,0,0,0,0,0]}'"
            ],
            "application/vnd.google.colaboratory.intrinsic+json": {
              "type": "string"
            }
          },
          "metadata": {},
          "execution_count": 17
        }
      ]
    },
    {
      "cell_type": "code",
      "source": [
        "import random\n",
        "\n",
        "def train_val_test_splits(lines):\n",
        "  random.shuffle(lines)\n",
        "\n",
        "  cutoff = int(len(lines) * 0.8)\n",
        "  cutoff2 = int(len(lines) * 0.1)\n",
        "  lines_train = lines[:cutoff]\n",
        "  lines_val = lines[cutoff+cutoff2:]\n",
        "  lines_test = lines[cutoff:cutoff+cutoff2]\n",
        "\n",
        "  print(len(lines),cutoff,cutoff2)\n",
        "\n",
        "  print(\"Train: \" + str(len(lines_train)) + \" Val: \" + str(len(lines_val)) + \" Test: \" + str(len(lines_test)))\n",
        "\n",
        "\n",
        "  json_string = list_to_string(lines_train)  \n",
        "  text_file = open(\"train_texte.txt\", \"w\")\n",
        "  text_file.write(json_string)\n",
        "  text_file.close()\n",
        "\n",
        "  json_string = list_to_string(lines_val)    \n",
        "  text_file = open(\"val_texte.txt\", \"w\")\n",
        "  text_file.write(json_string)\n",
        "  text_file.close()\n",
        "\n",
        "  json_string = list_to_string(lines_test)    \n",
        "  text_file = open(\"test_texte.txt\", \"w\")\n",
        "  text_file.write(json_string)\n",
        "  text_file.close()\n",
        "\n",
        "\n",
        "  json_string = list_to_string(texte_json) \n",
        "  text_file = open(\"texte_json.txt\", \"w\")\n",
        "  text_file.write(json_string)\n",
        "  text_file.close()\n"
      ],
      "metadata": {
        "id": "sa_TOKNyICp7"
      },
      "execution_count": null,
      "outputs": []
    },
    {
      "cell_type": "code",
      "source": [
        "train_val_test_splits(texte_json)\n"
      ],
      "metadata": {
        "colab": {
          "base_uri": "https://localhost:8080/"
        },
        "id": "i-uhL2vTEHdW",
        "outputId": "d8aee45c-b977-49bc-84e3-4ec5f3f9dcf4"
      },
      "execution_count": null,
      "outputs": [
        {
          "output_type": "stream",
          "name": "stdout",
          "text": [
            "15755 12604 1575\n",
            "Train: 12604 Val: 1576 Test: 1575\n"
          ]
        }
      ]
    },
    {
      "cell_type": "code",
      "source": [
        ""
      ],
      "metadata": {
        "id": "DlYJ5ebgG23B"
      },
      "execution_count": null,
      "outputs": []
    }
  ]
}